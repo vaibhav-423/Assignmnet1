{
 "cells": [
  {
   "cell_type": "code",
   "execution_count": null,
   "id": "4b1563c2-988c-44d7-9f9d-8bf74741d2e9",
   "metadata": {},
   "outputs": [],
   "source": []
  },
  {
   "cell_type": "markdown",
   "id": "d1289c41-cb84-42ce-8bf3-8329f97e21ab",
   "metadata": {},
   "source": [
    "Q1.Which keyword is used to create a function? Create a function to return a list of odd numbers in the\n",
    "range of 1 to 25.\n"
   ]
  },
  {
   "cell_type": "code",
   "execution_count": 3,
   "id": "db924778-9dc6-4417-b9c9-508b23ca7fa9",
   "metadata": {},
   "outputs": [],
   "source": [
    "def odd():\n",
    "    l=[]\n",
    "    for i in range(1,16):\n",
    "        if i%2 !=0:\n",
    "            l.append(i)\n",
    "    return l\n",
    "\n",
    "        "
   ]
  },
  {
   "cell_type": "code",
   "execution_count": 4,
   "id": "57e46b53-494f-42f2-b0ff-b5b892a2fa86",
   "metadata": {},
   "outputs": [
    {
     "data": {
      "text/plain": [
       "[1, 3, 5, 7, 9, 11, 13, 15]"
      ]
     },
     "execution_count": 4,
     "metadata": {},
     "output_type": "execute_result"
    }
   ],
   "source": [
    "odd()\n"
   ]
  },
  {
   "cell_type": "code",
   "execution_count": null,
   "id": "9523c6e8-6f3d-4a7e-995a-f2d477d15042",
   "metadata": {},
   "outputs": [],
   "source": []
  },
  {
   "cell_type": "code",
   "execution_count": null,
   "id": "1c719847-67e5-4d02-b4af-87b904c75756",
   "metadata": {},
   "outputs": [],
   "source": []
  },
  {
   "cell_type": "raw",
   "id": "14fa81d5-ce39-4799-af79-75e55630fcf1",
   "metadata": {},
   "source": [
    "    Q2. Why *args and **kwargs is used in some functions? Create a function each for *args and **kwargs\n",
    "to demonstrate their use."
   ]
  },
  {
   "cell_type": "raw",
   "id": "e2cd9078-caa2-4dff-a533-f33fb91acc12",
   "metadata": {},
   "source": [
    "*args is used to pass a variable number  It collects all the positional arguments passed to the function \n",
    "\n",
    "**kwargs it collects all the keyword arguments into a dictionary"
   ]
  },
  {
   "cell_type": "code",
   "execution_count": 21,
   "id": "880f0ec4-6656-4b7f-9287-4d46902fa454",
   "metadata": {},
   "outputs": [],
   "source": [
    "def sum(*args):\n",
    "    total=0\n",
    "    for i in args:\n",
    "        total=total+i\n",
    "    return total   \n",
    "        "
   ]
  },
  {
   "cell_type": "code",
   "execution_count": 15,
   "id": "c5eb2d03-4398-43c7-aff7-b461dbc779bb",
   "metadata": {},
   "outputs": [
    {
     "data": {
      "text/plain": [
       "10"
      ]
     },
     "execution_count": 15,
     "metadata": {},
     "output_type": "execute_result"
    }
   ],
   "source": [
    "sum(1,2,3,4)"
   ]
  },
  {
   "cell_type": "code",
   "execution_count": null,
   "id": "30616aff-1b42-408a-9c9d-d6b2da4fad20",
   "metadata": {},
   "outputs": [],
   "source": []
  },
  {
   "cell_type": "code",
   "execution_count": 14,
   "id": "ea0a719a-c5ec-4fd1-b8b1-657e61c39b18",
   "metadata": {},
   "outputs": [],
   "source": [
    "def test1(**kwargs):\n",
    "    for key, value in kwargs.items():\n",
    "        print(f\"{key}: {value}\")"
   ]
  },
  {
   "cell_type": "code",
   "execution_count": null,
   "id": "97ac62a1-e80f-4b36-a6e0-c79927d8ce4f",
   "metadata": {},
   "outputs": [],
   "source": []
  },
  {
   "cell_type": "code",
   "execution_count": 15,
   "id": "9eea4b18-7002-43b7-a978-4dbddcfb6262",
   "metadata": {},
   "outputs": [
    {
     "name": "stdout",
     "output_type": "stream",
     "text": [
      "name: Vaibhav\n",
      "Roll_no: 252\n"
     ]
    }
   ],
   "source": [
    "test1(name= \"Vaibhav\" , Roll_no= \"252\")"
   ]
  },
  {
   "cell_type": "code",
   "execution_count": 16,
   "id": "eb56809e-8018-4991-83d9-559f92d09fce",
   "metadata": {},
   "outputs": [
    {
     "name": "stdout",
     "output_type": "stream",
     "text": [
      "name: Vaibhav\n",
      "Roll_no: 252\n"
     ]
    }
   ],
   "source": [
    "test1(name=\"Vaibhav\", Roll_no=\"252\")\n"
   ]
  },
  {
   "cell_type": "code",
   "execution_count": null,
   "id": "6745f77f-6454-4286-8d5a-1cb171d1423c",
   "metadata": {},
   "outputs": [],
   "source": []
  },
  {
   "cell_type": "code",
   "execution_count": null,
   "id": "9daa42a2-a682-4ccc-9591-915febfb0e6b",
   "metadata": {},
   "outputs": [],
   "source": []
  },
  {
   "cell_type": "code",
   "execution_count": null,
   "id": "feffc25e-70c0-44e2-8fc6-31caf804acd2",
   "metadata": {},
   "outputs": [],
   "source": []
  },
  {
   "cell_type": "raw",
   "id": "2c7c0349-78a4-4012-9734-1b2e1d09e5c1",
   "metadata": {},
   "source": [
    "Q3. What is an iterator in python? Name the method used to initialise the iterator object and the method\n",
    "used for iteration. Use these methods to print the first five elements of the given list [2, 4, 6, 8, 10, 12, 14,\n",
    "16, 18, 20]."
   ]
  },
  {
   "cell_type": "raw",
   "id": "5c6f75d6-98e6-44f2-8350-111506df9a2e",
   "metadata": {},
   "source": [
    " an iterator is an object that implements the iterator protocol\n",
    "    __iter__(): This method returns the iterator object itself. It is called when you use the iter() function on an iterable object (e.g., list, tuple, string) to get an iterator.\n",
    "\n",
    "__next__(): This method returns the next item in the sequence. "
   ]
  },
  {
   "cell_type": "code",
   "execution_count": 19,
   "id": "0b1f458f-ed1e-4b86-b169-df3cbbeda005",
   "metadata": {},
   "outputs": [
    {
     "name": "stdout",
     "output_type": "stream",
     "text": [
      "2\n",
      "4\n",
      "6\n",
      "8\n",
      "10\n"
     ]
    }
   ],
   "source": [
    "l=[2, 4, 6, 8, 10, 12, 14,16, 18, 20]\n",
    "\n",
    "sp = iter(l)\n",
    "\n",
    "for i in range(5):\n",
    "    print(next(sp))"
   ]
  },
  {
   "cell_type": "code",
   "execution_count": null,
   "id": "ccebb4c0-9845-4684-b9c6-e976bcbd164d",
   "metadata": {},
   "outputs": [],
   "source": []
  },
  {
   "cell_type": "code",
   "execution_count": null,
   "id": "26decdf8-8bb2-4f03-bf98-38232e00c0de",
   "metadata": {},
   "outputs": [],
   "source": []
  },
  {
   "cell_type": "code",
   "execution_count": null,
   "id": "c2ca738d-95e4-4b6d-8a5d-b23215a6e6d8",
   "metadata": {},
   "outputs": [],
   "source": []
  },
  {
   "cell_type": "raw",
   "id": "fcda9851-8338-4eba-b214-e2147da70364",
   "metadata": {},
   "source": [
    "Q4. What is a generator function in python? Why yield keyword is used? Give an example of a generator\n",
    "function."
   ]
  },
  {
   "cell_type": "raw",
   "id": "bba92550-8434-4764-9a44-c7476e29fd48",
   "metadata": {},
   "source": [
    "A generator function in Python is a special type of function that generates values on-the-fly using the yield keyword"
   ]
  },
  {
   "cell_type": "code",
   "execution_count": 14,
   "id": "50e65ed5-35aa-4c44-9b9f-f46610421efb",
   "metadata": {},
   "outputs": [],
   "source": [
    "def fibo(n):\n",
    "    a=0\n",
    "    b=1\n",
    "    count=0\n",
    "    while count<n:\n",
    "        yield a\n",
    "        \n",
    "        a , b = b , a+b\n",
    "        # a=b\n",
    "        # b=a+b\n",
    "        count=count+1"
   ]
  },
  {
   "cell_type": "code",
   "execution_count": 15,
   "id": "bfe4dbf9-bb26-4cb6-98d5-9f770a6ae961",
   "metadata": {},
   "outputs": [
    {
     "name": "stdout",
     "output_type": "stream",
     "text": [
      "0\n",
      "1\n",
      "1\n",
      "2\n",
      "3\n",
      "5\n",
      "8\n",
      "13\n",
      "21\n",
      "34\n"
     ]
    }
   ],
   "source": [
    "fs = fibo(10)\n",
    "\n",
    "for i in fs :\n",
    "    print(i)"
   ]
  },
  {
   "cell_type": "code",
   "execution_count": null,
   "id": "edea1c7a-4e66-42e1-8416-9d0a602d5524",
   "metadata": {},
   "outputs": [],
   "source": []
  },
  {
   "cell_type": "code",
   "execution_count": null,
   "id": "07cdd38f-ac90-4d5c-996d-0e143e36307b",
   "metadata": {},
   "outputs": [],
   "source": []
  },
  {
   "cell_type": "raw",
   "id": "1ac4ca05-d0f5-4037-aaa3-81881f374fdd",
   "metadata": {},
   "source": [
    "Q.5 Create a generator function for prime numbers less than 1000. Use the next() method to print the\n",
    "first 20 prime numbers."
   ]
  },
  {
   "cell_type": "code",
   "execution_count": 16,
   "id": "7339ef4c-9f0d-40e9-bc30-421236be8594",
   "metadata": {},
   "outputs": [
    {
     "name": "stdout",
     "output_type": "stream",
     "text": [
      "2\n",
      "3\n",
      "5\n",
      "7\n",
      "11\n",
      "13\n",
      "17\n",
      "19\n",
      "23\n",
      "29\n",
      "31\n",
      "37\n",
      "41\n",
      "43\n",
      "47\n",
      "53\n",
      "59\n",
      "61\n",
      "67\n",
      "71\n"
     ]
    }
   ],
   "source": [
    "def is_prime(num):\n",
    "    if num < 2:\n",
    "        return False\n",
    "    for i in range(2, int(num**0.5) + 1):\n",
    "        if num % i == 0:\n",
    "            return False\n",
    "    return True\n",
    "\n",
    "def prime_generator():\n",
    "    num = 2\n",
    "    while True:\n",
    "        if is_prime(num):\n",
    "            yield num\n",
    "        num += 1\n",
    "\n",
    "# Create a generator object\n",
    "pg = prime_generator()\n",
    "\n",
    "# Print the first 20 prime numbers\n",
    "for _ in range(20):\n",
    "    print(next(pg))\n",
    "\n",
    "    "
   ]
  },
  {
   "cell_type": "code",
   "execution_count": null,
   "id": "a83ba237-340e-43cc-9915-031902067c18",
   "metadata": {},
   "outputs": [],
   "source": []
  },
  {
   "cell_type": "code",
   "execution_count": null,
   "id": "8320c1a8-fc58-4bd8-b3bc-0da641532981",
   "metadata": {},
   "outputs": [],
   "source": []
  },
  {
   "cell_type": "raw",
   "id": "94da51dd-7407-4cad-b621-ae4d3d37c1ad",
   "metadata": {},
   "source": [
    "Q6. Write a python program to print the first 10 Fibonacci numbers using a while loop."
   ]
  },
  {
   "cell_type": "code",
   "execution_count": 1,
   "id": "f3c70a09-7c78-422f-9feb-7c11587d0923",
   "metadata": {},
   "outputs": [
    {
     "name": "stdin",
     "output_type": "stream",
     "text": [
      "Enter the number  10\n"
     ]
    },
    {
     "name": "stdout",
     "output_type": "stream",
     "text": [
      "0\n",
      "1\n",
      "1\n",
      "2\n",
      "3\n",
      "5\n",
      "8\n",
      "13\n",
      "21\n",
      "34\n"
     ]
    }
   ],
   "source": [
    "n=int(input(\"Enter the number \"))\n",
    "a=0\n",
    "b=1\n",
    "\n",
    "while n>0:\n",
    "    print(a)\n",
    "    a , b=b,a+b\n",
    "    n=n-1\n",
    "    "
   ]
  },
  {
   "cell_type": "code",
   "execution_count": null,
   "id": "45896aeb-9129-47b6-8f3b-80e33344eaf3",
   "metadata": {},
   "outputs": [],
   "source": []
  },
  {
   "cell_type": "code",
   "execution_count": null,
   "id": "14e8cad7-c1d9-458c-8468-ef250c9d1b97",
   "metadata": {},
   "outputs": [],
   "source": []
  },
  {
   "cell_type": "raw",
   "id": "a14ff94b-789f-492d-9b55-861c3d67cfee",
   "metadata": {},
   "source": [
    "Q7. Write a List Comprehension to iterate through the given string: ‘pwskills’.\n",
    "Expected output: ['p', 'w', 's', 'k', 'i', 'l', 'l', 's']"
   ]
  },
  {
   "cell_type": "code",
   "execution_count": 16,
   "id": "78457b94-da3a-4048-bdaf-26da01c8c50a",
   "metadata": {},
   "outputs": [
    {
     "data": {
      "text/plain": [
       "['p', 'w', 's', 'k', 'i', 'l', 'l', 's']"
      ]
     },
     "execution_count": 16,
     "metadata": {},
     "output_type": "execute_result"
    }
   ],
   "source": [
    "str =\"pwskills\"\n",
    "l=len(str)\n",
    "l1=[]\n",
    "for i in range(l):\n",
    "    l1.append(str[i])\n",
    "\n",
    "    \n",
    "l1"
   ]
  },
  {
   "cell_type": "code",
   "execution_count": 17,
   "id": "9f51faa4-3877-4998-9d3d-08c151b7537d",
   "metadata": {},
   "outputs": [
    {
     "name": "stdout",
     "output_type": "stream",
     "text": [
      "['p', 'w', 's', 'k', 'i', 'l', 'l', 's']\n"
     ]
    }
   ],
   "source": [
    "char=[i for i in str]\n",
    "print(char)"
   ]
  },
  {
   "cell_type": "code",
   "execution_count": null,
   "id": "5ab78792-f7e6-4370-958b-b791d2d69e34",
   "metadata": {},
   "outputs": [],
   "source": []
  },
  {
   "cell_type": "code",
   "execution_count": null,
   "id": "37fb3fb6-614c-47b5-91b3-b95b9f9b397b",
   "metadata": {},
   "outputs": [],
   "source": []
  },
  {
   "cell_type": "raw",
   "id": "3a0b194c-57a5-4433-b730-12079b3fe9b0",
   "metadata": {},
   "source": [
    "Q8. Write a python program to check whether a given number is Palindrome or not using a while loop."
   ]
  },
  {
   "cell_type": "code",
   "execution_count": 13,
   "id": "8ed06302-68fb-4b77-ba5e-c44f07182cae",
   "metadata": {},
   "outputs": [
    {
     "name": "stdout",
     "output_type": "stream",
     "text": [
      "yes pllindrome\n"
     ]
    }
   ],
   "source": [
    "str=\"kadak\"\n",
    "orignal =str\n",
    "rev=\"\"\n",
    "l=len(str)\n",
    "for i in range(l):\n",
    "    rev=rev+str[(l-1)-i]\n",
    "                \n",
    "\n",
    "if orignal==rev:\n",
    "    print(\"yes pllindrome\")\n",
    "\n",
    "else:\n",
    "    print(\"Not Pllindrome\")"
   ]
  },
  {
   "cell_type": "code",
   "execution_count": null,
   "id": "633ada69-4294-424c-8b62-733fe2b6a4db",
   "metadata": {},
   "outputs": [],
   "source": []
  },
  {
   "cell_type": "code",
   "execution_count": null,
   "id": "ccd3bd89-3b61-4549-abd3-f89947d00aad",
   "metadata": {},
   "outputs": [],
   "source": []
  },
  {
   "cell_type": "raw",
   "id": "b91aaab0-7f0c-4ff4-8682-432a1b69bf12",
   "metadata": {},
   "source": [
    "Q9. Write a code to print odd numbers from 1 to 100 using list comprehension."
   ]
  },
  {
   "cell_type": "code",
   "execution_count": 19,
   "id": "a8447c90-306a-4441-aa05-8464a6c0eb14",
   "metadata": {},
   "outputs": [
    {
     "data": {
      "text/plain": [
       "[1,\n",
       " 3,\n",
       " 5,\n",
       " 7,\n",
       " 9,\n",
       " 11,\n",
       " 13,\n",
       " 15,\n",
       " 17,\n",
       " 19,\n",
       " 21,\n",
       " 23,\n",
       " 25,\n",
       " 27,\n",
       " 29,\n",
       " 31,\n",
       " 33,\n",
       " 35,\n",
       " 37,\n",
       " 39,\n",
       " 41,\n",
       " 43,\n",
       " 45,\n",
       " 47,\n",
       " 49,\n",
       " 51,\n",
       " 53,\n",
       " 55,\n",
       " 57,\n",
       " 59,\n",
       " 61,\n",
       " 63,\n",
       " 65,\n",
       " 67,\n",
       " 69,\n",
       " 71,\n",
       " 73,\n",
       " 75,\n",
       " 77,\n",
       " 79,\n",
       " 81,\n",
       " 83,\n",
       " 85,\n",
       " 87,\n",
       " 89,\n",
       " 91,\n",
       " 93,\n",
       " 95,\n",
       " 97,\n",
       " 99]"
      ]
     },
     "execution_count": 19,
     "metadata": {},
     "output_type": "execute_result"
    }
   ],
   "source": [
    "l=[i for i in range(100) if i%2 !=0 ]\n",
    "l"
   ]
  },
  {
   "cell_type": "code",
   "execution_count": null,
   "id": "035ff04c-c868-4ed8-b635-0353b584db6b",
   "metadata": {},
   "outputs": [],
   "source": []
  }
 ],
 "metadata": {
  "kernelspec": {
   "display_name": "Python 3 (ipykernel)",
   "language": "python",
   "name": "python3"
  },
  "language_info": {
   "codemirror_mode": {
    "name": "ipython",
    "version": 3
   },
   "file_extension": ".py",
   "mimetype": "text/x-python",
   "name": "python",
   "nbconvert_exporter": "python",
   "pygments_lexer": "ipython3",
   "version": "3.10.8"
  }
 },
 "nbformat": 4,
 "nbformat_minor": 5
}
