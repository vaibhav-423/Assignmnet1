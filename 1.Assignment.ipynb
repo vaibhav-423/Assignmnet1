{
 "cells": [
  {
   "cell_type": "markdown",
   "id": "247f78e9-a86a-411e-b4cb-60f07b387d8e",
   "metadata": {},
   "source": [
    "Q1.  Explain with an example each when to use a for loop and a while loop. \n"
   ]
  },
  {
   "cell_type": "markdown",
   "id": "287ba63b-b087-4ec2-8042-e91f3607482d",
   "metadata": {},
   "source": [
    "Ans : 1.WE used for loopp when we know the exact number of iteration \n",
    "\n",
    "      2.WE used while loop when we have to repeat a code untill a specific condition becomes false "
   ]
  },
  {
   "cell_type": "code",
   "execution_count": 2,
   "id": "48f7489d-b32d-4485-bfb9-77ad959cb7f8",
   "metadata": {},
   "outputs": [
    {
     "name": "stdin",
     "output_type": "stream",
     "text": [
      "Enter a number:  5\n"
     ]
    },
    {
     "name": "stdout",
     "output_type": "stream",
     "text": [
      "Factorial of 5 is 120\n"
     ]
    }
   ],
   "source": [
    "#In this problem we are using while loop the for loop is not well suited for this problem\n",
    "\n",
    "num = int(input(\"Enter a number: \"))\n",
    "factorial = 1\n",
    "counter = 1\n",
    "\n",
    "while counter <= num:\n",
    "    factorial *= counter\n",
    "    counter += 1\n",
    "\n",
    "print(\"Factorial of\", num, \"is\", factorial)\n",
    "\n"
   ]
  },
  {
   "cell_type": "code",
   "execution_count": null,
   "id": "b6e219a6-e3a6-4215-8574-3b540a0b3e5e",
   "metadata": {},
   "outputs": [],
   "source": []
  },
  {
   "cell_type": "code",
   "execution_count": null,
   "id": "3a4d7a42-5255-4092-a341-3a34526530fa",
   "metadata": {},
   "outputs": [],
   "source": []
  },
  {
   "cell_type": "code",
   "execution_count": 4,
   "id": "f87e7a3a-784b-4174-af26-890d04b6bd9e",
   "metadata": {},
   "outputs": [
    {
     "name": "stdout",
     "output_type": "stream",
     "text": [
      "Sum: 15\n"
     ]
    }
   ],
   "source": [
    "#In this we use for loop because we  knnow the iteration and \n",
    "#also for loop iterate over a sequence of elements (such as a list, tuple, string, or range) \n",
    "\n",
    "numbers = [1, 2, 3, 4, 5]\n",
    "sum_of_numbers = 0\n",
    "\n",
    "for num in numbers:\n",
    "    sum_of_numbers += num\n",
    "\n",
    "print(\"Sum:\", sum_of_numbers)"
   ]
  },
  {
   "cell_type": "code",
   "execution_count": null,
   "id": "0ae8c860-7af8-4b2b-b8f5-c5c157acd1bb",
   "metadata": {},
   "outputs": [],
   "source": []
  },
  {
   "cell_type": "code",
   "execution_count": null,
   "id": "d26a460b-85b6-482a-b002-f72274aa0eb2",
   "metadata": {},
   "outputs": [],
   "source": []
  },
  {
   "cell_type": "code",
   "execution_count": null,
   "id": "36519047-74f8-49ba-bda3-a2bd93ad6266",
   "metadata": {},
   "outputs": [],
   "source": []
  },
  {
   "cell_type": "markdown",
   "id": "9ff6f73f-6d00-49f0-8325-a8f4cc2bcba6",
   "metadata": {},
   "source": [
    "Q2 . Write a python program to print the sum and product of the first 10 natural numbers using for\n",
    "and while loop."
   ]
  },
  {
   "cell_type": "code",
   "execution_count": 11,
   "id": "2f571179-a242-416c-b645-22576c512548",
   "metadata": {},
   "outputs": [
    {
     "name": "stdout",
     "output_type": "stream",
     "text": [
      "Sum :  55\n",
      "Product :  3628800\n"
     ]
    }
   ],
   "source": [
    "#Using for loop\n",
    "\n",
    "sum=0\n",
    "product=1\n",
    "for i in range(1 ,11):\n",
    "    sum =sum+i\n",
    "    product=product*i\n",
    "    \n",
    "print( \"Sum : \",sum)    \n",
    "print(\"Product : \", product)\n",
    "    \n",
    "    "
   ]
  },
  {
   "cell_type": "code",
   "execution_count": 14,
   "id": "e8fa897b-3718-4f6b-862a-b15a9f0c8565",
   "metadata": {},
   "outputs": [
    {
     "name": "stdout",
     "output_type": "stream",
     "text": [
      "Sum :  55\n",
      "Product :  3628800\n"
     ]
    }
   ],
   "source": [
    "#Using while loop\n",
    "\n",
    "sum=0\n",
    "product=1\n",
    "n=1\n",
    "while n<=10:\n",
    "    sum=sum+n\n",
    "    product=product*n\n",
    "    n=n+1\n",
    "\n",
    "print( \"Sum : \",sum)    \n",
    "print(\"Product : \", product)\n",
    "        "
   ]
  },
  {
   "cell_type": "code",
   "execution_count": null,
   "id": "215f98a2-dfe1-4e7c-8ab8-269ebbe7d746",
   "metadata": {},
   "outputs": [],
   "source": []
  },
  {
   "cell_type": "code",
   "execution_count": null,
   "id": "0158f5a7-6687-4d2e-a759-8415c4565d0f",
   "metadata": {},
   "outputs": [],
   "source": []
  },
  {
   "cell_type": "markdown",
   "id": "17535efa-bf3c-48b1-ae79-59b8e2e0b4bc",
   "metadata": {},
   "source": [
    "Q3. Create a python program to compute the electricity bill for a household.\n",
    "The per-unit charges in rupees are as follows: For the first 100 units, the user will be charged Rs. 4.5 per\n",
    "unit, for the next 100 units, the user will be charged Rs. 6 per unit, and for the next 100 units, the user will\n",
    "be charged Rs. 10 per unit, After 300 units and above the user will be charged Rs. 20 per unit."
   ]
  },
  {
   "cell_type": "code",
   "execution_count": 17,
   "id": "a5979720-983e-487d-a40e-2b5efb983281",
   "metadata": {},
   "outputs": [
    {
     "name": "stdin",
     "output_type": "stream",
     "text": [
      "Enter the number of units consumed:  310\n"
     ]
    },
    {
     "name": "stdout",
     "output_type": "stream",
     "text": [
      "Electricity Bill: Rs. 2250.0\n"
     ]
    }
   ],
   "source": [
    "def calculate_electricity_bill(units):\n",
    "    total_bill = 0\n",
    "\n",
    "    if units <= 100:\n",
    "        total_bill = units * 4.5\n",
    "    elif units <= 200:\n",
    "        total_bill = 100 * 4.5 + (units - 100) * 6\n",
    "    elif units <= 300:\n",
    "        total_bill = 100 * 4.5 + 100 * 6 + (units - 200) * 10\n",
    "    else:\n",
    "        total_bill = 100 * 4.5 + 100 * 6 + 100 * 10 + (units - 300) * 20\n",
    "    \n",
    "    return total_bill\n",
    "\n",
    "units = int(input(\"Enter the number of units consumed: \"))\n",
    "\n",
    "bill_amount = calculate_electricity_bill(units)\n",
    "print(\"Electricity Bill: Rs.\", bill_amount)"
   ]
  },
  {
   "cell_type": "code",
   "execution_count": null,
   "id": "431a9ae9-206b-4764-b37b-c97b2c83e7cd",
   "metadata": {},
   "outputs": [],
   "source": []
  },
  {
   "cell_type": "markdown",
   "id": "e3fafcc4-6abc-468e-8b11-c0426c2437c6",
   "metadata": {},
   "source": [
    "Q4. Create a list of numbers from 1 to 100. Use for loop and while loop to calculate the cube of each\n",
    "number and if the cube of that number is divisible by 4 or 5 then append that number in a list and print\n",
    "that list."
   ]
  },
  {
   "cell_type": "code",
   "execution_count": 29,
   "id": "406133ad-cc6d-41f8-8a71-3aeb4a0142a6",
   "metadata": {},
   "outputs": [
    {
     "name": "stdout",
     "output_type": "stream",
     "text": [
      "[8, 64, 125, 216, 512, 1000, 1728, 2744, 3375, 4096, 5832, 8000, 10648, 13824, 15625, 17576, 21952, 27000, 32768, 39304, 42875, 46656, 54872, 64000, 74088, 85184, 91125, 97336, 110592, 125000, 140608, 157464, 166375, 175616, 195112, 216000, 238328, 262144, 274625, 287496, 314432, 343000, 373248, 405224, 421875, 438976, 474552, 512000, 551368, 592704, 614125, 636056, 681472, 729000, 778688, 830584, 857375, 884736, 941192, 1000000]\n"
     ]
    }
   ],
   "source": [
    "l1 =[]\n",
    "for i in range(1,101):\n",
    "    l1.append(i)\n",
    "    \n",
    "l2=[]\n",
    "for i in l1:\n",
    "    l2.append(i*i*i)\n",
    "    \n",
    "l3 =[]   \n",
    "for k in l2:\n",
    "    if(k%4==0 or k%5==0):\n",
    "        l3.append(k)\n",
    "    else:\n",
    "        pass\n",
    "        \n",
    "print(l3)       "
   ]
  },
  {
   "cell_type": "code",
   "execution_count": null,
   "id": "01d840c5-fab6-4fcf-832e-9eb87348d50b",
   "metadata": {},
   "outputs": [],
   "source": []
  },
  {
   "cell_type": "code",
   "execution_count": null,
   "id": "cd2c6c0d-4a70-4c44-8222-e5899ffae57b",
   "metadata": {},
   "outputs": [],
   "source": []
  },
  {
   "cell_type": "markdown",
   "id": "b0ee4f99-3817-41fd-b506-b32549fac927",
   "metadata": {},
   "source": [
    "Q5. Write a program to filter count vowels in the below-given string.\n",
    "string = \"I want to become a data scientist\""
   ]
  },
  {
   "cell_type": "code",
   "execution_count": 35,
   "id": "f5ebddd3-75df-4e99-9244-6a08049a350d",
   "metadata": {},
   "outputs": [
    {
     "name": "stdout",
     "output_type": "stream",
     "text": [
      "11\n"
     ]
    }
   ],
   "source": [
    "str = \"I want to become a data scientist\"\n",
    "count =0\n",
    "for i in str:\n",
    "    if i in  ['a', 'e', 'i', 'o', 'u']:\n",
    "        count = count+1\n",
    "print(count)        "
   ]
  },
  {
   "cell_type": "code",
   "execution_count": null,
   "id": "dc2b738f-7577-4d06-be9b-e75c2ba3437f",
   "metadata": {},
   "outputs": [],
   "source": []
  }
 ],
 "metadata": {
  "kernelspec": {
   "display_name": "Python 3 (ipykernel)",
   "language": "python",
   "name": "python3"
  },
  "language_info": {
   "codemirror_mode": {
    "name": "ipython",
    "version": 3
   },
   "file_extension": ".py",
   "mimetype": "text/x-python",
   "name": "python",
   "nbconvert_exporter": "python",
   "pygments_lexer": "ipython3",
   "version": "3.10.8"
  }
 },
 "nbformat": 4,
 "nbformat_minor": 5
}
